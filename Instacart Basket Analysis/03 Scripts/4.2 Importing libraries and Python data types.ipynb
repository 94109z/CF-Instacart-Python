{
 "cells": [
  {
   "cell_type": "markdown",
   "id": "71463e58",
   "metadata": {},
   "source": [
    "# Importing Libraries"
   ]
  },
  {
   "cell_type": "code",
   "execution_count": 1,
   "id": "47a05496",
   "metadata": {},
   "outputs": [],
   "source": [
    "# Import libraries\n",
    "import pandas as pd\n",
    "import numpy as np\n",
    "import os"
   ]
  },
  {
   "cell_type": "code",
   "execution_count": 2,
   "id": "7325a719",
   "metadata": {},
   "outputs": [],
   "source": [
    "# Python data types\n",
    "x = 50\n",
    "y = 50"
   ]
  },
  {
   "cell_type": "code",
   "execution_count": 3,
   "id": "8dd43643",
   "metadata": {},
   "outputs": [
    {
     "data": {
      "text/plain": [
       "100"
      ]
     },
     "execution_count": 3,
     "metadata": {},
     "output_type": "execute_result"
    }
   ],
   "source": [
    "x + y"
   ]
  },
  {
   "cell_type": "code",
   "execution_count": 6,
   "id": "4988b240",
   "metadata": {},
   "outputs": [
    {
     "data": {
      "text/plain": [
       "100"
      ]
     },
     "execution_count": 6,
     "metadata": {},
     "output_type": "execute_result"
    }
   ],
   "source": [
    "3*x-y"
   ]
  },
  {
   "cell_type": "code",
   "execution_count": 7,
   "id": "2ea9bfd8",
   "metadata": {},
   "outputs": [
    {
     "data": {
      "text/plain": [
       "100"
      ]
     },
     "execution_count": 7,
     "metadata": {},
     "output_type": "execute_result"
    }
   ],
   "source": [
    "2*x-0*y"
   ]
  },
  {
   "cell_type": "code",
   "execution_count": 8,
   "id": "1f285295",
   "metadata": {},
   "outputs": [],
   "source": [
    "a = 2.5\n",
    "b = 0.5"
   ]
  },
  {
   "cell_type": "code",
   "execution_count": 9,
   "id": "2172909f",
   "metadata": {},
   "outputs": [
    {
     "data": {
      "text/plain": [
       "5.0"
      ]
     },
     "execution_count": 9,
     "metadata": {},
     "output_type": "execute_result"
    }
   ],
   "source": [
    "a/b"
   ]
  },
  {
   "cell_type": "code",
   "execution_count": 17,
   "id": "6a64ad14",
   "metadata": {},
   "outputs": [],
   "source": [
    "aa = 'h'\n",
    "bb = 'o'\n",
    "cc = 'm'\n",
    "dd = 'e'"
   ]
  },
  {
   "cell_type": "code",
   "execution_count": 18,
   "id": "7cd64697",
   "metadata": {},
   "outputs": [
    {
     "data": {
      "text/plain": [
       "'home'"
      ]
     },
     "execution_count": 18,
     "metadata": {},
     "output_type": "execute_result"
    }
   ],
   "source": [
    "aa+bb+cc+dd"
   ]
  },
  {
   "cell_type": "code",
   "execution_count": 21,
   "id": "028a381c",
   "metadata": {},
   "outputs": [],
   "source": [
    "c = 'My '\n",
    "d = 'name '\n",
    "e = 'is '\n",
    "f = 'Brian'\n",
    "g = 'what '\n",
    "h = 'your '\n",
    "i = '?'\n",
    "j = ', '"
   ]
  },
  {
   "cell_type": "code",
   "execution_count": 22,
   "id": "52801d1c",
   "metadata": {},
   "outputs": [
    {
     "data": {
      "text/plain": [
       "'My name is Brian, what is your name ?'"
      ]
     },
     "execution_count": 22,
     "metadata": {},
     "output_type": "execute_result"
    }
   ],
   "source": [
    "c+d+e+f+j+g+e+h+d+i"
   ]
  },
  {
   "cell_type": "code",
   "execution_count": null,
   "id": "2703032c",
   "metadata": {},
   "outputs": [],
   "source": []
  }
 ],
 "metadata": {
  "kernelspec": {
   "display_name": "Python 3 (ipykernel)",
   "language": "python",
   "name": "python3"
  },
  "language_info": {
   "codemirror_mode": {
    "name": "ipython",
    "version": 3
   },
   "file_extension": ".py",
   "mimetype": "text/x-python",
   "name": "python",
   "nbconvert_exporter": "python",
   "pygments_lexer": "ipython3",
   "version": "3.9.12"
  }
 },
 "nbformat": 4,
 "nbformat_minor": 5
}
