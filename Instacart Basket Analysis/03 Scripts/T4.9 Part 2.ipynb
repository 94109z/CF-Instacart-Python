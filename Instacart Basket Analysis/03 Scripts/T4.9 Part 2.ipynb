{
 "cells": [
  {
   "cell_type": "code",
   "execution_count": 45,
   "id": "bcfbd5e3",
   "metadata": {},
   "outputs": [],
   "source": [
    "import pandas as pd\n",
    "import numpy as np\n",
    "import os\n",
    "import matplotlib.pyplot as plt\n",
    "import seaborn as sns\n",
    "import scipy"
   ]
  },
  {
   "cell_type": "code",
   "execution_count": 46,
   "id": "8cf46bb9",
   "metadata": {},
   "outputs": [],
   "source": [
    "path = r'/Users/brianyoo/Instacart Basket Analysis'"
   ]
  },
  {
   "cell_type": "code",
   "execution_count": 47,
   "id": "87305486",
   "metadata": {},
   "outputs": [],
   "source": [
    "ords_prods_customers_merged = pd.read_pickle(os.path.join(path, '02 Data', 'Prepared Data', 'orders_products_customers_merged.pkl'))"
   ]
  },
  {
   "cell_type": "code",
   "execution_count": 48,
   "id": "fda27580",
   "metadata": {},
   "outputs": [],
   "source": [
    "pd.options.display.max_columns = None"
   ]
  },
  {
   "cell_type": "code",
   "execution_count": 49,
   "id": "d99a2aa1",
   "metadata": {
    "scrolled": true
   },
   "outputs": [
    {
     "data": {
      "text/html": [
       "<div>\n",
       "<style scoped>\n",
       "    .dataframe tbody tr th:only-of-type {\n",
       "        vertical-align: middle;\n",
       "    }\n",
       "\n",
       "    .dataframe tbody tr th {\n",
       "        vertical-align: top;\n",
       "    }\n",
       "\n",
       "    .dataframe thead th {\n",
       "        text-align: right;\n",
       "    }\n",
       "</style>\n",
       "<table border=\"1\" class=\"dataframe\">\n",
       "  <thead>\n",
       "    <tr style=\"text-align: right;\">\n",
       "      <th></th>\n",
       "      <th>user_id</th>\n",
       "      <th>first_name</th>\n",
       "      <th>last_name</th>\n",
       "      <th>gender</th>\n",
       "      <th>state</th>\n",
       "      <th>age</th>\n",
       "      <th>date_joined</th>\n",
       "      <th>dependant_family</th>\n",
       "      <th>income</th>\n",
       "      <th>Unnamed: 0_x</th>\n",
       "      <th>product_id</th>\n",
       "      <th>product_name</th>\n",
       "      <th>aisle_id</th>\n",
       "      <th>department_id</th>\n",
       "      <th>prices</th>\n",
       "      <th>Unnamed: 0.1</th>\n",
       "      <th>Unnamed: 0_y</th>\n",
       "      <th>order_id</th>\n",
       "      <th>order_number</th>\n",
       "      <th>order_date_of_week</th>\n",
       "      <th>order_hour_of_day</th>\n",
       "      <th>days_since_prior_order</th>\n",
       "      <th>new_customer</th>\n",
       "      <th>add_to_cart_order</th>\n",
       "      <th>reordered</th>\n",
       "      <th>_merge</th>\n",
       "      <th>busiest day</th>\n",
       "      <th>busiest days</th>\n",
       "      <th>time_periods_orders</th>\n",
       "      <th>busiest_period_of_day</th>\n",
       "      <th>max_order</th>\n",
       "      <th>loyalty_flag</th>\n",
       "      <th>mean_order</th>\n",
       "      <th>High_Low</th>\n",
       "      <th>median_order</th>\n",
       "      <th>customer_frequency</th>\n",
       "    </tr>\n",
       "  </thead>\n",
       "  <tbody>\n",
       "    <tr>\n",
       "      <th>0</th>\n",
       "      <td>26711</td>\n",
       "      <td>Deborah</td>\n",
       "      <td>Esquivel</td>\n",
       "      <td>Female</td>\n",
       "      <td>Missouri</td>\n",
       "      <td>48</td>\n",
       "      <td>1/1/2017</td>\n",
       "      <td>3</td>\n",
       "      <td>165665</td>\n",
       "      <td>195</td>\n",
       "      <td>196</td>\n",
       "      <td>Soda</td>\n",
       "      <td>77</td>\n",
       "      <td>7</td>\n",
       "      <td>9.0</td>\n",
       "      <td>443895</td>\n",
       "      <td>443895</td>\n",
       "      <td>2543867</td>\n",
       "      <td>5</td>\n",
       "      <td>1</td>\n",
       "      <td>9</td>\n",
       "      <td>30.0</td>\n",
       "      <td>False</td>\n",
       "      <td>2</td>\n",
       "      <td>0</td>\n",
       "      <td>both</td>\n",
       "      <td>Regularly day</td>\n",
       "      <td>Busiest days</td>\n",
       "      <td>Most orders</td>\n",
       "      <td>Most orders</td>\n",
       "      <td>8</td>\n",
       "      <td>New customer</td>\n",
       "      <td>7.988889</td>\n",
       "      <td>Low spender</td>\n",
       "      <td>19.0</td>\n",
       "      <td>Non-frequent customer</td>\n",
       "    </tr>\n",
       "    <tr>\n",
       "      <th>1</th>\n",
       "      <td>26711</td>\n",
       "      <td>Deborah</td>\n",
       "      <td>Esquivel</td>\n",
       "      <td>Female</td>\n",
       "      <td>Missouri</td>\n",
       "      <td>48</td>\n",
       "      <td>1/1/2017</td>\n",
       "      <td>3</td>\n",
       "      <td>165665</td>\n",
       "      <td>195</td>\n",
       "      <td>196</td>\n",
       "      <td>Soda</td>\n",
       "      <td>77</td>\n",
       "      <td>7</td>\n",
       "      <td>9.0</td>\n",
       "      <td>443897</td>\n",
       "      <td>443897</td>\n",
       "      <td>1285508</td>\n",
       "      <td>7</td>\n",
       "      <td>5</td>\n",
       "      <td>15</td>\n",
       "      <td>11.0</td>\n",
       "      <td>False</td>\n",
       "      <td>1</td>\n",
       "      <td>1</td>\n",
       "      <td>both</td>\n",
       "      <td>Regularly day</td>\n",
       "      <td>Regularly days</td>\n",
       "      <td>Most orders</td>\n",
       "      <td>Most orders</td>\n",
       "      <td>8</td>\n",
       "      <td>New customer</td>\n",
       "      <td>7.988889</td>\n",
       "      <td>Low spender</td>\n",
       "      <td>19.0</td>\n",
       "      <td>Regular customer</td>\n",
       "    </tr>\n",
       "    <tr>\n",
       "      <th>2</th>\n",
       "      <td>26711</td>\n",
       "      <td>Deborah</td>\n",
       "      <td>Esquivel</td>\n",
       "      <td>Female</td>\n",
       "      <td>Missouri</td>\n",
       "      <td>48</td>\n",
       "      <td>1/1/2017</td>\n",
       "      <td>3</td>\n",
       "      <td>165665</td>\n",
       "      <td>195</td>\n",
       "      <td>196</td>\n",
       "      <td>Soda</td>\n",
       "      <td>77</td>\n",
       "      <td>7</td>\n",
       "      <td>9.0</td>\n",
       "      <td>443898</td>\n",
       "      <td>443898</td>\n",
       "      <td>2578584</td>\n",
       "      <td>8</td>\n",
       "      <td>1</td>\n",
       "      <td>15</td>\n",
       "      <td>10.0</td>\n",
       "      <td>False</td>\n",
       "      <td>2</td>\n",
       "      <td>1</td>\n",
       "      <td>both</td>\n",
       "      <td>Regularly day</td>\n",
       "      <td>Busiest days</td>\n",
       "      <td>Most orders</td>\n",
       "      <td>Most orders</td>\n",
       "      <td>8</td>\n",
       "      <td>New customer</td>\n",
       "      <td>7.988889</td>\n",
       "      <td>Low spender</td>\n",
       "      <td>19.0</td>\n",
       "      <td>Frequent customer</td>\n",
       "    </tr>\n",
       "    <tr>\n",
       "      <th>3</th>\n",
       "      <td>26711</td>\n",
       "      <td>Deborah</td>\n",
       "      <td>Esquivel</td>\n",
       "      <td>Female</td>\n",
       "      <td>Missouri</td>\n",
       "      <td>48</td>\n",
       "      <td>1/1/2017</td>\n",
       "      <td>3</td>\n",
       "      <td>165665</td>\n",
       "      <td>6184</td>\n",
       "      <td>6184</td>\n",
       "      <td>Clementines</td>\n",
       "      <td>32</td>\n",
       "      <td>4</td>\n",
       "      <td>4.3</td>\n",
       "      <td>443891</td>\n",
       "      <td>443891</td>\n",
       "      <td>518967</td>\n",
       "      <td>1</td>\n",
       "      <td>2</td>\n",
       "      <td>9</td>\n",
       "      <td>NaN</td>\n",
       "      <td>True</td>\n",
       "      <td>1</td>\n",
       "      <td>0</td>\n",
       "      <td>both</td>\n",
       "      <td>Regularly day</td>\n",
       "      <td>Regularly days</td>\n",
       "      <td>Most orders</td>\n",
       "      <td>Most orders</td>\n",
       "      <td>8</td>\n",
       "      <td>New customer</td>\n",
       "      <td>7.988889</td>\n",
       "      <td>Low spender</td>\n",
       "      <td>19.0</td>\n",
       "      <td>NaN</td>\n",
       "    </tr>\n",
       "    <tr>\n",
       "      <th>4</th>\n",
       "      <td>26711</td>\n",
       "      <td>Deborah</td>\n",
       "      <td>Esquivel</td>\n",
       "      <td>Female</td>\n",
       "      <td>Missouri</td>\n",
       "      <td>48</td>\n",
       "      <td>1/1/2017</td>\n",
       "      <td>3</td>\n",
       "      <td>165665</td>\n",
       "      <td>6184</td>\n",
       "      <td>6184</td>\n",
       "      <td>Clementines</td>\n",
       "      <td>32</td>\n",
       "      <td>4</td>\n",
       "      <td>4.3</td>\n",
       "      <td>443893</td>\n",
       "      <td>443893</td>\n",
       "      <td>2524893</td>\n",
       "      <td>3</td>\n",
       "      <td>3</td>\n",
       "      <td>11</td>\n",
       "      <td>30.0</td>\n",
       "      <td>False</td>\n",
       "      <td>2</td>\n",
       "      <td>1</td>\n",
       "      <td>both</td>\n",
       "      <td>Regularly day</td>\n",
       "      <td>Slowest days</td>\n",
       "      <td>Most orders</td>\n",
       "      <td>Most orders</td>\n",
       "      <td>8</td>\n",
       "      <td>New customer</td>\n",
       "      <td>7.988889</td>\n",
       "      <td>Low spender</td>\n",
       "      <td>19.0</td>\n",
       "      <td>Non-frequent customer</td>\n",
       "    </tr>\n",
       "  </tbody>\n",
       "</table>\n",
       "</div>"
      ],
      "text/plain": [
       "  user_id first_name last_name  gender     state  age date_joined  \\\n",
       "0   26711    Deborah  Esquivel  Female  Missouri   48    1/1/2017   \n",
       "1   26711    Deborah  Esquivel  Female  Missouri   48    1/1/2017   \n",
       "2   26711    Deborah  Esquivel  Female  Missouri   48    1/1/2017   \n",
       "3   26711    Deborah  Esquivel  Female  Missouri   48    1/1/2017   \n",
       "4   26711    Deborah  Esquivel  Female  Missouri   48    1/1/2017   \n",
       "\n",
       "   dependant_family  income  Unnamed: 0_x  product_id product_name  aisle_id  \\\n",
       "0                 3  165665           195         196         Soda        77   \n",
       "1                 3  165665           195         196         Soda        77   \n",
       "2                 3  165665           195         196         Soda        77   \n",
       "3                 3  165665          6184        6184  Clementines        32   \n",
       "4                 3  165665          6184        6184  Clementines        32   \n",
       "\n",
       "   department_id  prices  Unnamed: 0.1  Unnamed: 0_y  order_id  order_number  \\\n",
       "0              7     9.0        443895        443895   2543867             5   \n",
       "1              7     9.0        443897        443897   1285508             7   \n",
       "2              7     9.0        443898        443898   2578584             8   \n",
       "3              4     4.3        443891        443891    518967             1   \n",
       "4              4     4.3        443893        443893   2524893             3   \n",
       "\n",
       "   order_date_of_week  order_hour_of_day  days_since_prior_order  \\\n",
       "0                   1                  9                    30.0   \n",
       "1                   5                 15                    11.0   \n",
       "2                   1                 15                    10.0   \n",
       "3                   2                  9                     NaN   \n",
       "4                   3                 11                    30.0   \n",
       "\n",
       "   new_customer  add_to_cart_order  reordered _merge    busiest day  \\\n",
       "0         False                  2          0   both  Regularly day   \n",
       "1         False                  1          1   both  Regularly day   \n",
       "2         False                  2          1   both  Regularly day   \n",
       "3          True                  1          0   both  Regularly day   \n",
       "4         False                  2          1   both  Regularly day   \n",
       "\n",
       "     busiest days time_periods_orders busiest_period_of_day  max_order  \\\n",
       "0    Busiest days         Most orders           Most orders          8   \n",
       "1  Regularly days         Most orders           Most orders          8   \n",
       "2    Busiest days         Most orders           Most orders          8   \n",
       "3  Regularly days         Most orders           Most orders          8   \n",
       "4    Slowest days         Most orders           Most orders          8   \n",
       "\n",
       "   loyalty_flag  mean_order     High_Low  median_order     customer_frequency  \n",
       "0  New customer    7.988889  Low spender          19.0  Non-frequent customer  \n",
       "1  New customer    7.988889  Low spender          19.0       Regular customer  \n",
       "2  New customer    7.988889  Low spender          19.0      Frequent customer  \n",
       "3  New customer    7.988889  Low spender          19.0                    NaN  \n",
       "4  New customer    7.988889  Low spender          19.0  Non-frequent customer  "
      ]
     },
     "execution_count": 49,
     "metadata": {},
     "output_type": "execute_result"
    }
   ],
   "source": [
    "ords_prods_customers_merged.head()"
   ]
  },
  {
   "cell_type": "code",
   "execution_count": 50,
   "id": "e4ed3549",
   "metadata": {},
   "outputs": [],
   "source": [
    "# 3 Create a histogram of the “order_hour_of_day” column."
   ]
  },
  {
   "cell_type": "code",
   "execution_count": 51,
   "id": "ebbe12a6",
   "metadata": {
    "scrolled": true
   },
   "outputs": [
    {
     "data": {
      "image/png": "[encoded data removed]",
      "text/plain": [
       "<Figure size 432x288 with 1 Axes>"
      ]
     },
     "metadata": {
      "needs_background": "light"
     },
     "output_type": "display_data"
    }
   ],
   "source": [
    "histogram1 = ords_prods_customers_merged['order_hour_of_day'].plot.hist(bins = 25)"
   ]
  },
  {
   "cell_type": "markdown",
   "id": "8d4dafc9",
   "metadata": {},
   "source": [
    "This histogram shows the hours of the day, from 0 to 24, and the total amount of orders placed for each hour."
   ]
  },
  {
   "cell_type": "code",
   "execution_count": 52,
   "id": "df91f005",
   "metadata": {},
   "outputs": [],
   "source": [
    "# 4 Create a bar chart from the “loyalty_flag” column."
   ]
  },
  {
   "cell_type": "code",
   "execution_count": 53,
   "id": "981e122d",
   "metadata": {
    "scrolled": false
   },
   "outputs": [
    {
     "data": {
      "image/png": "[encoded data removed]",
      "text/plain": [
       "<Figure size 432x288 with 1 Axes>"
      ]
     },
     "metadata": {
      "needs_background": "light"
     },
     "output_type": "display_data"
    }
   ],
   "source": [
    "bar_loyalty_flag = ords_prods_customers_merged['loyalty_flag'].value_counts().plot.bar()"
   ]
  },
  {
   "cell_type": "code",
   "execution_count": 54,
   "id": "e91d44bc",
   "metadata": {},
   "outputs": [],
   "source": [
    "# 5 Check whether there’s a difference in expenditure (the “prices” column) depending on the hour of the day."
   ]
  },
  {
   "cell_type": "code",
   "execution_count": 55,
   "id": "f54f54f3",
   "metadata": {},
   "outputs": [],
   "source": [
    "np.random.seed(4)"
   ]
  },
  {
   "cell_type": "code",
   "execution_count": 56,
   "id": "72e07508",
   "metadata": {},
   "outputs": [],
   "source": [
    "dev = np.random.rand(len(ords_prods_customers_merged)) <= 0.7"
   ]
  },
  {
   "cell_type": "code",
   "execution_count": 57,
   "id": "71b6f22e",
   "metadata": {},
   "outputs": [],
   "source": [
    "big = ords_prods_customers_merged[dev]"
   ]
  },
  {
   "cell_type": "code",
   "execution_count": 58,
   "id": "8f2d6268",
   "metadata": {},
   "outputs": [],
   "source": [
    "small = ords_prods_customers_merged[~dev]"
   ]
  },
  {
   "cell_type": "code",
   "execution_count": 59,
   "id": "e3033629",
   "metadata": {
    "scrolled": true
   },
   "outputs": [
    {
     "ename": "NameError",
     "evalue": "name 'df_prices_hour' is not defined",
     "output_type": "error",
     "traceback": [
      "\u001b[0;31m---------------------------------------------------------------------------\u001b[0m",
      "\u001b[0;31mNameError\u001b[0m                                 Traceback (most recent call last)",
      "Input \u001b[0;32mIn [59]\u001b[0m, in \u001b[0;36m<cell line: 1>\u001b[0;34m()\u001b[0m\n\u001b[0;32m----> 1\u001b[0m \u001b[43mdf_prices_hour\u001b[49m\n",
      "\u001b[0;31mNameError\u001b[0m: name 'df_prices_hour' is not defined"
     ]
    }
   ],
   "source": [
    "df_prices_hour"
   ]
  },
  {
   "cell_type": "code",
   "execution_count": null,
   "id": "4a9a8652",
   "metadata": {},
   "outputs": [],
   "source": [
    "order_hour_of_day_hour = small[['order_hour_of_day', 'prices']]"
   ]
  },
  {
   "cell_type": "code",
   "execution_count": null,
   "id": "6ddf47bf",
   "metadata": {
    "scrolled": true
   },
   "outputs": [],
   "source": [
    "line = sns.lineplot(data = order_hour_of_day_hour, x = 'order_hour_of_day', y = 'prices')"
   ]
  },
  {
   "cell_type": "code",
   "execution_count": null,
   "id": "a4b982b5",
   "metadata": {},
   "outputs": [],
   "source": [
    "# 6 Determine whether there’s a connection between age and family situation by creating a line chart."
   ]
  },
  {
   "cell_type": "code",
   "execution_count": null,
   "id": "3e92ba7c",
   "metadata": {},
   "outputs": [],
   "source": [
    "age_dependant_family = small [['dependant_family', 'age']]"
   ]
  },
  {
   "cell_type": "code",
   "execution_count": null,
   "id": "99d1c7d9",
   "metadata": {
    "scrolled": false
   },
   "outputs": [],
   "source": [
    "line_2 = sns.lineplot(data = age_dependant_family, x = 'age', y = 'dependant_family')"
   ]
  },
  {
   "cell_type": "markdown",
   "id": "60989132",
   "metadata": {},
   "source": [
    "The line chart shows the customer's age and their number of dependents in each family."
   ]
  },
  {
   "cell_type": "code",
   "execution_count": null,
   "id": "9bac2fca",
   "metadata": {},
   "outputs": [],
   "source": [
    "# 7 Explore whether there’s a connection between age and spending power (income)."
   ]
  },
  {
   "cell_type": "code",
   "execution_count": null,
   "id": "8ce9627b",
   "metadata": {},
   "outputs": [],
   "source": [
    "age_income = small[['age', 'income']]"
   ]
  },
  {
   "cell_type": "code",
   "execution_count": null,
   "id": "83e16575",
   "metadata": {
    "scrolled": true
   },
   "outputs": [],
   "source": [
    "scatter = sns.scatterplot(data = age_income, x = 'age', y = 'income')"
   ]
  },
  {
   "cell_type": "markdown",
   "id": "545d8e44",
   "metadata": {},
   "source": [
    "This scatterplot shows the relationship between age and income of instacart customers.\n",
    "This scatterplot shows that it is common for all age groups that earn up to 200,000 USD.\n",
    "This scatterplot shows that between age of 40's and 80's earn up to 600,000 USD.\n",
    "If Instacart is planning to arouse more sales from the customer, they shoul focus on the age groups from 40 to 80."
   ]
  },
  {
   "cell_type": "code",
   "execution_count": null,
   "id": "9ed10090",
   "metadata": {},
   "outputs": [],
   "source": [
    "histogram1.figure.savefig(os.path.join(path, '04 Analysis', 'Visualization', 'histogram1_4_9.png'))"
   ]
  },
  {
   "cell_type": "code",
   "execution_count": null,
   "id": "503caef3",
   "metadata": {},
   "outputs": [],
   "source": [
    "bar_loyalty_flag.figure.savefig(os.path.join(path, '04 Analysis', 'Visualization', 'bar_loyalty_flag_4_9.png'))"
   ]
  },
  {
   "cell_type": "code",
   "execution_count": null,
   "id": "2675885f",
   "metadata": {},
   "outputs": [],
   "source": [
    "line.figure.savefig(os.path.join(path, '04 Analysis', 'Visualization', 'line_prices_hour_4_9.png'))"
   ]
  },
  {
   "cell_type": "code",
   "execution_count": null,
   "id": "8ca266fe",
   "metadata": {},
   "outputs": [],
   "source": [
    "line_2.figure.savefig(os.path.join(path, '04 Analysis', 'Visualization', 'line_age_deps_4_9.png'))"
   ]
  },
  {
   "cell_type": "code",
   "execution_count": null,
   "id": "3af3c116",
   "metadata": {},
   "outputs": [],
   "source": [
    "scatter.figure.savefig(os.path.join(path, '04 Analysis', 'Visualization', 'scatter_spending_power_4_9.png'))"
   ]
  },
  {
   "cell_type": "code",
   "execution_count": null,
   "id": "101f5f69",
   "metadata": {},
   "outputs": [],
   "source": []
  }
 ],
 "metadata": {
  "kernelspec": {
   "display_name": "Python 3 (ipykernel)",
   "language": "python",
   "name": "python3"
  },
  "language_info": {
   "codemirror_mode": {
    "name": "ipython",
    "version": 3
   },
   "file_extension": ".py",
   "mimetype": "text/x-python",
   "name": "python",
   "nbconvert_exporter": "python",
   "pygments_lexer": "ipython3",
   "version": "3.9.12"
  }
 },
 "nbformat": 4,
 "nbformat_minor": 5
}
